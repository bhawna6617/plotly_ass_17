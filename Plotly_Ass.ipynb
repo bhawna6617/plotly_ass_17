{
 "cells": [
  {
   "cell_type": "markdown",
   "id": "3bf5ff41",
   "metadata": {},
   "source": [
    "# question 1"
   ]
  },
  {
   "cell_type": "code",
   "execution_count": null,
   "id": "54b344ed",
   "metadata": {},
   "outputs": [],
   "source": [
    "#import seaborn as sns\n",
    "#import plotly.express as go\n",
    "\n",
    "# Load the Titanic dataset\n",
    "#titanic = sns.load_dataset(\"titanic\")\n",
    "\n",
    "# Create a scatter plot using Plotly Express\n",
    "#fig = go.scatter(titanic, x=\"age\", y=\"fare\", title=\"Scatter Plot of Age vs Fare in Titanic Dataset\")\n",
    "#fig.show()\n"
   ]
  },
  {
   "cell_type": "markdown",
   "id": "af631cb5",
   "metadata": {},
   "source": [
    "# question 2"
   ]
  },
  {
   "cell_type": "code",
   "execution_count": 1,
   "id": "a0b900c5",
   "metadata": {},
   "outputs": [],
   "source": [
    "#import plotly.graph_objects as go\n",
    "\n",
    "# Load the \"tips\" dataset from Plotly\n",
    "#tips = px.data.tips\n",
    "\n",
    "# Create a box plot using Plotly Express\n",
    "#fig = go.box(tips, x=\"day\", y=\"total_bill\", title=\"Box Plot of Total Bill by Day\")\n",
    "#fig.show()\n"
   ]
  },
  {
   "cell_type": "markdown",
   "id": "9fc2cd5e",
   "metadata": {},
   "source": [
    "# question 3"
   ]
  },
  {
   "cell_type": "code",
   "execution_count": 2,
   "id": "cd9ef579",
   "metadata": {},
   "outputs": [],
   "source": [
    "#import plotly.graph_objects as px\n",
    "\n",
    "# Load the \"tips\" dataset from Plotly\n",
    "#tips = px.data.tips\n",
    "\n",
    "# Create a histogram using Plotly Express\n",
    "#fig = px.histogram(\n",
    "   # tips,\n",
    "   # x=\"sex\",\n",
    "   # y=\"total_bill\",\n",
    "    #color=\"day\",\n",
    "    #facet_col=\"smoker\",\n",
    "   # facet_col_wrap=2,\n",
    "   # pattern_shape=\"smoker\",\n",
    "    #title=\"Histogram of Total Bill by Sex (Colored by Day) and Shaped by Smoker\"\n",
    "#)\n",
    "\n",
    "#fig.show()\n"
   ]
  },
  {
   "cell_type": "markdown",
   "id": "58891f3f",
   "metadata": {},
   "source": [
    "# question 4"
   ]
  },
  {
   "cell_type": "code",
   "execution_count": 3,
   "id": "5f77ccc7",
   "metadata": {},
   "outputs": [],
   "source": [
    "#import plotly.express as px\n",
    "\n",
    "# Load the Iris dataset from Plotly\n",
    "#iris = px.data.iris\n",
    "\n",
    "# Create a scatter matrix using Plotly Express\n",
    "#fig = px.scatter_matrix(\n",
    "    #iris,\n",
    "    #dimensions=[\"sepal_length\", \"sepal_width\", \"petal_length\", \"petal_width\"],\n",
    "    #color=\"species\",\n",
    "    #title=\"Scatter Matrix Plot of Iris Dataset\"\n",
    "#)\n",
    "\n",
    "#fig.show()\n"
   ]
  },
  {
   "cell_type": "markdown",
   "id": "7c96708d",
   "metadata": {},
   "source": [
    "# question 5"
   ]
  },
  {
   "cell_type": "code",
   "execution_count": 4,
   "id": "ee75819e",
   "metadata": {},
   "outputs": [],
   "source": [
    "#A distplot, short for distribution plot, is a graphical representation of the distribution of a dataset. It combines elements of both a histogram and a kernel density plot (KDE) to provide a visual summary of the data's distribution. Distplots are useful for understanding the underlying distribution of continuous data, visualizing skewness, central tendency, and the presence of multiple modes (peaks) in the data."
   ]
  },
  {
   "cell_type": "code",
   "execution_count": 5,
   "id": "0e08c162",
   "metadata": {},
   "outputs": [],
   "source": [
    "#import plotly.express as px\n",
    "\n",
    "# Sample data (replace with your dataset)\n",
    "#data = [1.2, 1.5, 1.8, 2.1, 2.2, 2.5, 2.7, 3.0, 3.1, 3.2, 3.5, 3.5, 3.6, 3.7, 4.0]\n",
    "\n",
    "# Create a distplot using Plotly Express\n",
    "#fig = px.histogram(data, nbins=10, title=\"Distplot Example\")\n",
    "#fig.show()\n"
   ]
  },
  {
   "cell_type": "code",
   "execution_count": null,
   "id": "74a5634c",
   "metadata": {},
   "outputs": [],
   "source": []
  }
 ],
 "metadata": {
  "kernelspec": {
   "display_name": "Python 3 (ipykernel)",
   "language": "python",
   "name": "python3"
  },
  "language_info": {
   "codemirror_mode": {
    "name": "ipython",
    "version": 3
   },
   "file_extension": ".py",
   "mimetype": "text/x-python",
   "name": "python",
   "nbconvert_exporter": "python",
   "pygments_lexer": "ipython3",
   "version": "3.11.3"
  }
 },
 "nbformat": 4,
 "nbformat_minor": 5
}
